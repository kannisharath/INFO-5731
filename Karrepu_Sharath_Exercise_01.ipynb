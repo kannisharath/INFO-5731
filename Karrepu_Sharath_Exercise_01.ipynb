{
  "cells": [
    {
      "cell_type": "markdown",
      "metadata": {
        "id": "view-in-github",
        "colab_type": "text"
      },
      "source": [
        "<a href=\"https://colab.research.google.com/github/kannisharath/INFO-5731/blob/main/Karrepu_Sharath_Exercise_01.ipynb\" target=\"_parent\"><img src=\"https://colab.research.google.com/assets/colab-badge.svg\" alt=\"Open In Colab\"/></a>"
      ]
    },
    {
      "cell_type": "markdown",
      "metadata": {
        "id": "DymRJbxDBCnf"
      },
      "source": [
        "# **This first In-class-exercise cover a variety of fundamental concepts in Python and are designed to help individuals improve their coding skills and problem-solving abilities.**\n",
        "\n",
        "The submission is due on 01/31/2024 11:59 PM. This submission is worth 40 points in total.\n"
      ]
    },
    {
      "cell_type": "markdown",
      "source": [
        "(1) Write a Python program that  prompts the user to input the length and width of a rectangle, and then calculates and displays the area of the rectangle."
      ],
      "metadata": {
        "id": "FBKvD6O_TY6e"
      }
    },
    {
      "cell_type": "code",
      "source": [
        "# Taking input from the user\n",
        "length = float(input(\"length of the rectangle: \"))\n",
        "width = float(input(\"width of the rectangle: \"))\n",
        "\n",
        "# Calculate the area of the rectangle\n",
        "area = length * width\n",
        "\n",
        "# Display the result\n",
        "print(\"area of the rectangle is:\", area)\n"
      ],
      "metadata": {
        "id": "cikVKDXdTbzE",
        "colab": {
          "base_uri": "https://localhost:8080/"
        },
        "outputId": "477bc9fa-7948-4c9b-db94-0cfa8d78d906"
      },
      "execution_count": 1,
      "outputs": [
        {
          "output_type": "stream",
          "name": "stdout",
          "text": [
            "length of the rectangle: 2\n",
            "width of the rectangle: 2\n",
            "area of the rectangle is: 4.0\n"
          ]
        }
      ]
    },
    {
      "cell_type": "markdown",
      "source": [
        "(2) Create a Python program that interactively takes two numerical inputs from the user and swaps their values without utilizing an extra variable."
      ],
      "metadata": {
        "id": "E9RqrlwdTfvl"
      }
    },
    {
      "cell_type": "code",
      "source": [
        "# Take an input from user for two numerical inputs\n",
        "a1 = int(input(\"Enter first number: \"))\n",
        "a2 = int(input(\"Enter second number: \"))\n",
        "# Swapping the values\n",
        "a1 = a1 + a2\n",
        "a2 = a1 - a2\n",
        "a1 = a1 - a2\n",
        "# Display the swapped values\n",
        "print(\"\\nValues after swapping:\")\n",
        "print(\"First number:\", a1)\n",
        "print(\"Second number:\", a2)\n"
      ],
      "metadata": {
        "id": "4XvRknixTh1g",
        "colab": {
          "base_uri": "https://localhost:8080/"
        },
        "outputId": "6bf26fee-2a0b-4ec2-bc6b-416eae29acde"
      },
      "execution_count": 3,
      "outputs": [
        {
          "output_type": "stream",
          "name": "stdout",
          "text": [
            "Enter first number: 3\n",
            "Enter second number: 4\n",
            "\n",
            "Values after swapping:\n",
            "First number: 4\n",
            "Second number: 3\n"
          ]
        }
      ]
    },
    {
      "cell_type": "markdown",
      "metadata": {
        "id": "03jb4GZsBkBS"
      },
      "source": [
        "(3) Write a Python script to determine and print the length of a user-input string."
      ]
    },
    {
      "cell_type": "code",
      "execution_count": 6,
      "metadata": {
        "id": "YaGLbSHHB8Ej",
        "colab": {
          "base_uri": "https://localhost:8080/"
        },
        "outputId": "cdd04181-5075-4a9b-b8a4-f7f6726b0051"
      },
      "outputs": [
        {
          "output_type": "stream",
          "name": "stdout",
          "text": [
            "Enter a string: sharath\n",
            "length of string is: 7\n"
          ]
        }
      ],
      "source": [
        "# Get input from the user\n",
        "b= input(\"Enter a string: \")\n",
        "# Finding the length of string using len() function\n",
        "length = len(b)\n",
        "# Print the length of the string\n",
        "print(\"length of string is:\", length)"
      ]
    },
    {
      "cell_type": "markdown",
      "metadata": {
        "id": "jJDe71iLB616"
      },
      "source": [
        "(4) Construct a Python program that counts and displays the occurrences of each character in a given string.\n",
        "\n",
        "Sample String: 'openai.ai',\n",
        "\n",
        "Expected Result: {'a': 2, 'i': 2, '.': 1, 'o': 1, 'p': 1, 'e': 1, 'n': 1}"
      ]
    },
    {
      "cell_type": "code",
      "execution_count": 62,
      "metadata": {
        "id": "MtKskTzbCLaU",
        "colab": {
          "base_uri": "https://localhost:8080/"
        },
        "outputId": "d06fd12d-1264-4a4f-e361-b5953b8aac32"
      },
      "outputs": [
        {
          "output_type": "stream",
          "name": "stdout",
          "text": [
            "{'.': 1, 'a': 2, 'e': 1, 'i': 2, 'n': 1, 'o': 1, 'p': 1}\n"
          ]
        }
      ],
      "source": [
        "def count_characters(input_string):\n",
        "    # Initialize an empty dictionary to store the character frequencies\n",
        "    frequency_dict = {}\n",
        "    # Loop over each character in the string\n",
        "    for char in sorted(input_string):\n",
        "        # If the character is already in the dictionary, increment its count\n",
        "        if char in frequency_dict:\n",
        "            frequency_dict[char] += 1\n",
        "        # Otherwise, add it to the dictionary with a count of 1\n",
        "        else:\n",
        "            frequency_dict[char] = 1\n",
        "    # Return the dictionary of character frequencies\n",
        "    return frequency_dict\n",
        "# Test the function\n",
        "print(count_characters('openai.ai'))"
      ]
    },
    {
      "cell_type": "markdown",
      "metadata": {
        "id": "55W9AMdXCSpV"
      },
      "source": [
        "(5) Design a Python code to calculate the sum of all elements in a user-provided list."
      ]
    },
    {
      "cell_type": "code",
      "execution_count": 56,
      "metadata": {
        "id": "I57NXsauCec2",
        "colab": {
          "base_uri": "https://localhost:8080/"
        },
        "outputId": "e31ff3f3-f312-4f70-ce3b-d05f7a1087ee"
      },
      "outputs": [
        {
          "output_type": "stream",
          "name": "stdout",
          "text": [
            "Enter a list of numbers: 2 3 4 5 6 7 8 9\n",
            "The sum of the numbers is: 44\n"
          ]
        }
      ],
      "source": [
        "# Get a list of numbers from the user\n",
        "numbers = list(map(int, input(\"Enter a list of numbers: \").split()))\n",
        "# Calculate the sum of the numbers\n",
        "total = sum(numbers)\n",
        "# Print the sum\n",
        "print(\"The sum of the numbers is:\", total)"
      ]
    },
    {
      "cell_type": "markdown",
      "metadata": {
        "id": "4ulBZ6yhCi9F"
      },
      "source": [
        "(6) Write a Python program that modifies a given string by replacing all occurrences of its first character with '$', excluding the first character itself.\n",
        "\n",
        "\n",
        "Sample String : 'restart‘,\n",
        "\n",
        "Expected Result : 'resta\\$t'"
      ]
    },
    {
      "cell_type": "code",
      "execution_count": 55,
      "metadata": {
        "id": "Fj0XhwbBCw2o",
        "colab": {
          "base_uri": "https://localhost:8080/"
        },
        "outputId": "eb940c51-b835-4f69-a093-9fe82f1d4ea3"
      },
      "outputs": [
        {
          "output_type": "stream",
          "name": "stdout",
          "text": [
            "resta$t\n"
          ]
        }
      ],
      "source": [
        "def replace_char(input_string):\n",
        "    # Get the first character of the string\n",
        "    first_char = input_string[0]\n",
        "    # Replace all occurrences of the first character with '$', excluding the first character itself\n",
        "    modified_string = first_char + input_string[1:].replace(first_char, '$')\n",
        "    # Return the modified string\n",
        "    return modified_string\n",
        "# Test the function\n",
        "print(replace_char('restart'))  # Output: 'resta$t'"
      ]
    },
    {
      "cell_type": "markdown",
      "source": [
        "(7) Write a Python program using a while loop to compute the factorial of a user-supplied number."
      ],
      "metadata": {
        "id": "qVXA3q7ET5JI"
      }
    },
    {
      "cell_type": "code",
      "source": [
        "# Get a number from the user\n",
        "n = int(input(\"Enter a number: \"))\n",
        "# Initialize the factorial to 1\n",
        "factorial = 1\n",
        "# Use a while loop to compute the factorial\n",
        "while n > 1:\n",
        "    factorial *= n\n",
        "    n -= 1\n",
        "# Print the factorial\n",
        "print(\"The factorial is:\", factorial)"
      ],
      "metadata": {
        "id": "Lbt7R6UkT7BA",
        "colab": {
          "base_uri": "https://localhost:8080/"
        },
        "outputId": "dab651a5-af25-49ef-9a8f-dafbebe41bff"
      },
      "execution_count": 53,
      "outputs": [
        {
          "output_type": "stream",
          "name": "stdout",
          "text": [
            "Enter a number: 3\n",
            "The factorial is: 6\n"
          ]
        }
      ]
    },
    {
      "cell_type": "markdown",
      "source": [
        "(8) Create a program that accepts a list of numbers as input and outputs a new list containing only the even numbers."
      ],
      "metadata": {
        "id": "6YfbzXMNT--R"
      }
    },
    {
      "cell_type": "code",
      "source": [
        "# Get a list of numbers from the user\n",
        "numbers = list(map(int, input(\"Enter a list of numbers: \").split()))\n",
        "# Use list comprehension to create a new list containing only the even numbers\n",
        "even_numbers = [number for number in numbers if number % 2 == 0]\n",
        "# Print the new list\n",
        "print(\"The even numbers are:\", even_numbers)"
      ],
      "metadata": {
        "id": "54q7wMQPUAKu",
        "colab": {
          "base_uri": "https://localhost:8080/"
        },
        "outputId": "8a3a3993-febd-426b-b3d1-f7229502646e"
      },
      "execution_count": 52,
      "outputs": [
        {
          "output_type": "stream",
          "name": "stdout",
          "text": [
            "Enter a list of numbers: 2 3 4 5 6 7 8 9\n",
            "The even numbers are: [2, 4, 6, 8]\n"
          ]
        }
      ]
    },
    {
      "cell_type": "markdown",
      "metadata": {
        "id": "_bIP7s1MCzue"
      },
      "source": [
        "\n",
        "(9) Design a Python function to check if a number is prime.\n"
      ]
    },
    {
      "cell_type": "code",
      "execution_count": 51,
      "metadata": {
        "id": "w79QilHXD3Mg",
        "colab": {
          "base_uri": "https://localhost:8080/"
        },
        "outputId": "10020679-72c7-4583-c9dc-89a90ac7b40d"
      },
      "outputs": [
        {
          "output_type": "stream",
          "name": "stdout",
          "text": [
            "Enter an integer: 5\n",
            "5 is a prime number.\n"
          ]
        }
      ],
      "source": [
        "def is_prime(n):\n",
        "    # 0 and 1 are not prime numbers\n",
        "    if n < 2:\n",
        "        return False\n",
        "    # 2 is the only even prime number\n",
        "    if n == 2:\n",
        "        return True\n",
        "    # All other even numbers are not primes\n",
        "    if n % 2 == 0:\n",
        "        return False\n",
        "    # Range starts with 3 and only needs to go up the square root of n\n",
        "    # for all odd numbers\n",
        "    for x in range(3, int(n**0.5) + 1, 2):\n",
        "        if n % x == 0:\n",
        "            return False\n",
        "    return True\n",
        "# Get an integer from the user\n",
        "n = int(input(\"Enter an integer: \"))\n",
        "# Check if the integer is prime and print the result\n",
        "if is_prime(n):\n",
        "    print(n, \"is a prime number.\")\n",
        "else:\n",
        "    print(n, \"is not a prime number.\")"
      ]
    },
    {
      "cell_type": "markdown",
      "metadata": {
        "id": "xCa2bK9aD4Q3"
      },
      "source": [
        "(10) Write a Python program to concatenate following dictionaries to create a new one.\n",
        "\n",
        "Sample Dictionary : dic1={1:10, 2:20}, dic2={3:30, 4:40}, dic3={5:50,6:60},\n",
        "\n",
        "Expected Result : {1: 10, 2: 20, 3: 30, 4: 40, 5: 50, 6: 60}\n"
      ]
    },
    {
      "cell_type": "code",
      "execution_count": 49,
      "metadata": {
        "id": "_z4aLqAbEET1",
        "colab": {
          "base_uri": "https://localhost:8080/"
        },
        "outputId": "5e2e1a0b-7d1d-4196-d021-ab990c4f1e3b"
      },
      "outputs": [
        {
          "output_type": "stream",
          "name": "stdout",
          "text": [
            "{1: 10, 2: 20, 3: 30, 4: 40, 5: 50, 6: 60}\n"
          ]
        }
      ],
      "source": [
        "# Define the dictionaries\n",
        "dic1 = {1:10, 2:20}\n",
        "dic2 = {3:30, 4:40}\n",
        "dic3 = {5:50, 6:60}\n",
        "# Use the built-in dict.update method to concatenate the dictionaries\n",
        "result = {}\n",
        "for d in [dic1, dic2, dic3]:\n",
        "    result.update(d)\n",
        "# Print the result\n",
        "print(result)"
      ]
    },
    {
      "cell_type": "markdown",
      "source": [
        "(11) Design a Python function that takes a tuple of integers as input and returns the largest and smallest elements."
      ],
      "metadata": {
        "id": "bkyZ2xSZUOst"
      }
    },
    {
      "cell_type": "code",
      "source": [
        "def find_min_max(input_tuple):\n",
        "    # Find the smallest and largest elements using the built-in min and max functions\n",
        "    smallest = min(input_tuple)\n",
        "    largest = max(input_tuple)\n",
        "    # Return the smallest and largest elements\n",
        "    return smallest, largest\n",
        "# Get a tuple of integers from the user\n",
        "input_tuple = tuple(map(int, input(\"Enter a list of integers: \").split()))\n",
        "# Find the smallest and largest elements in the tuple and print them\n",
        "smallest, largest = find_min_max(input_tuple)\n",
        "print(\"The smallest element is:\", smallest)\n",
        "print(\"The largest element is:\", largest)"
      ],
      "metadata": {
        "id": "3FdLRBKOUQEd",
        "colab": {
          "base_uri": "https://localhost:8080/"
        },
        "outputId": "692fc9b2-e2d8-4b63-effe-619f30a60871"
      },
      "execution_count": 48,
      "outputs": [
        {
          "output_type": "stream",
          "name": "stdout",
          "text": [
            "Enter a list of integers: 21 3 4 5 87 76 54 33 22\n",
            "The smallest element is: 3\n",
            "The largest element is: 87\n"
          ]
        }
      ]
    },
    {
      "cell_type": "markdown",
      "source": [
        "(12) Write a Python program that counts the frequency of each character in a given string and stores it in a dictionary."
      ],
      "metadata": {
        "id": "O0TVi3gKUTpp"
      }
    },
    {
      "cell_type": "code",
      "source": [
        "def count_characters(input_string):\n",
        "    # Initialize an empty dictionary to store the character frequencies\n",
        "    frequency_dict = {}\n",
        "    # Loop over each character in the string\n",
        "    for char in input_string:\n",
        "        # If the character is already in the dictionary, increment its count\n",
        "        if char in frequency_dict:\n",
        "            frequency_dict[char] += 1\n",
        "        # Otherwise, add it to the dictionary with a count of 1\n",
        "        else:\n",
        "            frequency_dict[char] = 1\n",
        "    # Return the dictionary of character frequencies\n",
        "    return frequency_dict\n",
        "# Get a string from the user\n",
        "input_string = input(\"Enter a string: \")\n",
        "# Count the characters in the string and print the frequencies\n",
        "print(count_characters(input_string))"
      ],
      "metadata": {
        "id": "lAtfSfZXUU-h",
        "colab": {
          "base_uri": "https://localhost:8080/"
        },
        "outputId": "05278f35-d6d4-4175-f77a-7ec6e89ad5e7"
      },
      "execution_count": 47,
      "outputs": [
        {
          "output_type": "stream",
          "name": "stdout",
          "text": [
            "Enter a string: sharath\n",
            "{'s': 1, 'h': 2, 'a': 2, 'r': 1, 't': 1}\n"
          ]
        }
      ]
    },
    {
      "cell_type": "markdown",
      "metadata": {
        "id": "0v48Vqa7FrQh"
      },
      "source": [
        "(13) Implement a Python script to identify duplicate elements in a provided array of integers. Return -1 if there are no duplicates."
      ]
    },
    {
      "cell_type": "code",
      "execution_count": 46,
      "metadata": {
        "id": "7WEmgq-DF2P1",
        "colab": {
          "base_uri": "https://localhost:8080/"
        },
        "outputId": "6379a577-f05b-475a-f65b-02290a4cfc13"
      },
      "outputs": [
        {
          "output_type": "stream",
          "name": "stdout",
          "text": [
            "Enter a list of integers: 1 2 2 4 5 6 7\n",
            "The duplicates are: [2]\n"
          ]
        }
      ],
      "source": [
        "def find_duplicates(input_list):\n",
        "    # Create an empty set to store the elements\n",
        "    elements = set()\n",
        "    # Create an empty list to store the duplicates\n",
        "    duplicates = []\n",
        "    # Loop over each element in the input list\n",
        "    for element in input_list:\n",
        "        # If the element is already in the set, it's a duplicate\n",
        "        if element in elements:\n",
        "            duplicates.append(element)\n",
        "        # Otherwise, add it to the set\n",
        "        else:\n",
        "            elements.add(element)\n",
        "    # If there are duplicates, return them\n",
        "    if duplicates:\n",
        "        return duplicates\n",
        "    # Otherwise, return -1\n",
        "    else:\n",
        "        return -1\n",
        "# Get a list of integers from the user\n",
        "input_list = list(map(int, input(\"Enter a list of integers: \").split()))\n",
        "# Find the duplicates in the list and print them\n",
        "duplicates = find_duplicates(input_list)\n",
        "if duplicates == -1:\n",
        "    print(\"There are no duplicates.\")\n",
        "else:\n",
        "    print(\"The duplicates are:\", duplicates)"
      ]
    },
    {
      "cell_type": "markdown",
      "metadata": {
        "id": "vD5PYLMuGga_"
      },
      "source": [
        "(14) Write a Python script to find the common elements between two lists."
      ]
    },
    {
      "cell_type": "code",
      "execution_count": 41,
      "metadata": {
        "id": "t0D5kdJUGjjw",
        "colab": {
          "base_uri": "https://localhost:8080/"
        },
        "outputId": "11d3f8a4-2b60-4643-af61-640f1c3465ad"
      },
      "outputs": [
        {
          "output_type": "stream",
          "name": "stdout",
          "text": [
            "Enter the elements of the first list: 1 2 3 4 5\n",
            "Enter the elements of the second list: 2 3 5 6 7 8\n",
            "The common elements are: ['2', '3', '5']\n"
          ]
        }
      ],
      "source": [
        "# Get two lists from the user\n",
        "list1 = input(\"Enter the elements of the first list: \").split()\n",
        "list2 = input(\"Enter the elements of the second list: \").split()\n",
        "# Use list comprehension to find the common elements\n",
        "common_elements = [element for element in list1 if element in list2]\n",
        "# Print the common elements\n",
        "print(\"The common elements are:\", common_elements)"
      ]
    },
    {
      "cell_type": "markdown",
      "metadata": {
        "id": "uHkd-y5VhVWC"
      },
      "source": [
        "(15) Write a Python program to randomly divide the students in this class into six groups for term projects, each group should have at least 4 students but no more than 6 students (including 6).\n",
        "\n",
        "Here is the students list:\n",
        "\n",
        "student_list_spring_2024=[rb0846,\n",
        "ac1964,\n",
        "hc0612,\n",
        "md0912,\n",
        "ad1198,\n",
        "md0894,\n",
        "md0825,\n",
        "vg0598,\n",
        "vg0433,\n",
        "mh1068,\n",
        "yj0173,\n",
        "pk0553,\n",
        "tk0411,\n",
        "srk0204,\n",
        "sk2922,\n",
        "sk2936,\n",
        "mk1302,\n",
        "mk1317,\n",
        "tk0412,\n",
        "vk0656,\n",
        "sm2985,\n",
        "mm2372,\n",
        "un0045,\n",
        "an0892,\n",
        "sn0913,\n",
        "gp0252,\n",
        "ap1484,\n",
        "mr1765,\n",
        "sr1385,\n",
        "sr1335,\n",
        "hs0665,\n",
        "ms2060,\n",
        "gt0217,\n",
        "nt0385,\n",
        "tv0186,\n",
        "sv1394,\n",
        "sv1752,\n",
        "sv1555,\n",
        "sy0594\n",
        "]\n"
      ]
    },
    {
      "cell_type": "code",
      "execution_count": 36,
      "metadata": {
        "id": "3iGbmcOBhTwy",
        "colab": {
          "base_uri": "https://localhost:8080/"
        },
        "outputId": "2275c607-4dc7-42eb-ebe4-5d68418792f9"
      },
      "outputs": [
        {
          "output_type": "stream",
          "name": "stdout",
          "text": [
            "Group 1: ['mk1317', 'sv1752', 'vg0433', 'an0892', 'md0912', 'pk0553', 'vk0656']\n",
            "Group 2: ['sk2922', 'sm2985', 'tv0186', 'rb0846', 'mm2372', 'sr1385', 'yj0173']\n",
            "Group 3: ['gp0252', 'sv1555', 'md0825', 'vg0598', 'ad1198', 'ap1484', 'mh1068']\n",
            "Group 4: ['tk0412', 'sr1335', 'hs0665', 'sv1394', 'sn0913', 'gt0217']\n",
            "Group 5: ['md0894', 'un0045', 'nt0385', 'ac1964', 'sy0594', 'hc0612']\n",
            "Group 6: ['mk1302', 'tk0411', 'ms2060', 'srk0204', 'mr1765', 'sk2936']\n"
          ]
        }
      ],
      "source": [
        "import random\n",
        "# List of students\n",
        "student_list_spring_2024 = ['rb0846', 'ac1964', 'hc0612', 'md0912', 'ad1198', 'md0894', 'md0825', 'vg0598', 'vg0433', 'mh1068', 'yj0173', 'pk0553', 'tk0411', 'srk0204', 'sk2922', 'sk2936', 'mk1302', 'mk1317', 'tk0412', 'vk0656', 'sm2985', 'mm2372', 'un0045', 'an0892', 'sn0913', 'gp0252', 'ap1484', 'mr1765', 'sr1385', 'sr1335', 'hs0665', 'ms2060', 'gt0217', 'nt0385', 'tv0186', 'sv1394', 'sv1752', 'sv1555', 'sy0594']\n",
        "# Shuffle the list of students\n",
        "random.shuffle(student_list_spring_2024)\n",
        "# Initialize the groups\n",
        "groups = [[] for _ in range(6)]\n",
        "# Distribute the students into the groups\n",
        "for i, student in enumerate(student_list_spring_2024):\n",
        "    groups[i % 6].append(student)\n",
        "# Print the groups\n",
        "for i, group in enumerate(groups, 1):\n",
        "    print(f\"Group {i}: {group}\")\n",
        "    #there are 39 students it is not possible to fit the students in 6 groups for not more than 6 people in the group\n"
      ]
    },
    {
      "cell_type": "markdown",
      "metadata": {
        "id": "fmZ9vX20Qs3d"
      },
      "source": [
        "(16) Create a program that takes a positive integer 'n' as input and prints the count of even numbers from 1 to 'n'. Optimize the loop using the break statement."
      ]
    },
    {
      "cell_type": "code",
      "execution_count": 29,
      "metadata": {
        "id": "W8Jw6sWMQs3d",
        "colab": {
          "base_uri": "https://localhost:8080/"
        },
        "outputId": "2996f8bf-657c-4658-e5d4-321a8fc2b470"
      },
      "outputs": [
        {
          "output_type": "stream",
          "name": "stdout",
          "text": [
            "Enter a positive integer: 10\n",
            "The count of even numbers from 1 to 10 is 5\n"
          ]
        }
      ],
      "source": [
        "# Get a positive integer 'n' from the user\n",
        "n = int(input(\"Enter a positive integer: \"))\n",
        "# Initialize the count to 0\n",
        "count = 0\n",
        "# Loop over the numbers from 1 to 'n'\n",
        "for i in range(1, n + 1):\n",
        "    # If the number is even, increment the count\n",
        "    if i % 2 == 0:\n",
        "        count += 1\n",
        "    # If the number is greater than 'n', break the loop\n",
        "    if i >= n:\n",
        "        break\n",
        "# Print the count of even numbers\n",
        "print(\"The count of even numbers from 1 to\", n, \"is\", count)"
      ]
    },
    {
      "cell_type": "markdown",
      "metadata": {
        "id": "hvq4APMhQs3d"
      },
      "source": [
        "(17) Develop a Python function called 'count_vowels' that takes a string as input and returns the count of vowels (both lowercase and uppercase) present in the string, ignoring spaces and non-alphabetic characters."
      ]
    },
    {
      "cell_type": "code",
      "execution_count": 27,
      "metadata": {
        "id": "ZnoxhSglQs3d",
        "colab": {
          "base_uri": "https://localhost:8080/"
        },
        "outputId": "5584cbb9-1378-4c9d-9cde-f0d30f86dff7"
      },
      "outputs": [
        {
          "output_type": "stream",
          "name": "stdout",
          "text": [
            "Enter a string: sharath chandra\n",
            "4\n"
          ]
        }
      ],
      "source": [
        "def count_vowels(input_string):\n",
        "# Define the vowels\n",
        "    vowels = 'aeiouAEIOU'\n",
        "# Initialize the count to 0\n",
        "    count = 0\n",
        "# Loop over each character in the string\n",
        "    for char in input_string:\n",
        "# If the character is a vowel, increment the count\n",
        "        if char in vowels:\n",
        "            count += 1\n",
        "    # Return the count\n",
        "    return count\n",
        "# Get a string from the user\n",
        "input_string = input(\"Enter a string: \")\n",
        "# Count the vowels in the string and print the count\n",
        "print(count_vowels(input_string))\n",
        "\n"
      ]
    },
    {
      "cell_type": "markdown",
      "source": [
        "(18) Create a custom exception named ValueTooSmallError in Python. Write a program that takes user input for an age, and if the entered age is less than 18, raise the ValueTooSmallError with an appropriate error message."
      ],
      "metadata": {
        "id": "55FWoSJPVVM6"
      }
    },
    {
      "cell_type": "code",
      "source": [
        "# Define the custom exception\n",
        "class ValueTooSmallError(Exception):\n",
        "    pass\n",
        "# Get the age from the user\n",
        "age = int(input(\"Enter your age: \"))\n",
        "\n",
        "# Check if the age is less than 18\n",
        "if age < 18:\n",
        "    # If so, raise the custom exception\n",
        "    raise ValueTooSmallError(\"The entered age is less than 18.\")\n",
        "else:\n",
        "    print(\"The entered age is valid.\")\n"
      ],
      "metadata": {
        "id": "hwtr1wZmVX5A",
        "colab": {
          "base_uri": "https://localhost:8080/",
          "height": 263
        },
        "outputId": "cbe049c8-40bd-45b0-808d-2ec2b8afc0cc"
      },
      "execution_count": 24,
      "outputs": [
        {
          "name": "stdout",
          "output_type": "stream",
          "text": [
            "Enter your age: 15\n"
          ]
        },
        {
          "output_type": "error",
          "ename": "ValueTooSmallError",
          "evalue": "The entered age is less than 18.",
          "traceback": [
            "\u001b[0;31m---------------------------------------------------------------------------\u001b[0m",
            "\u001b[0;31mValueTooSmallError\u001b[0m                        Traceback (most recent call last)",
            "\u001b[0;32m<ipython-input-24-615ddb82d48a>\u001b[0m in \u001b[0;36m<cell line: 8>\u001b[0;34m()\u001b[0m\n\u001b[1;32m      8\u001b[0m \u001b[0;32mif\u001b[0m \u001b[0mage\u001b[0m \u001b[0;34m<\u001b[0m \u001b[0;36m18\u001b[0m\u001b[0;34m:\u001b[0m\u001b[0;34m\u001b[0m\u001b[0;34m\u001b[0m\u001b[0m\n\u001b[1;32m      9\u001b[0m     \u001b[0;31m# If so, raise the custom exception\u001b[0m\u001b[0;34m\u001b[0m\u001b[0;34m\u001b[0m\u001b[0m\n\u001b[0;32m---> 10\u001b[0;31m     \u001b[0;32mraise\u001b[0m \u001b[0mValueTooSmallError\u001b[0m\u001b[0;34m(\u001b[0m\u001b[0;34m\"The entered age is less than 18.\"\u001b[0m\u001b[0;34m)\u001b[0m\u001b[0;34m\u001b[0m\u001b[0;34m\u001b[0m\u001b[0m\n\u001b[0m\u001b[1;32m     11\u001b[0m \u001b[0;32melse\u001b[0m\u001b[0;34m:\u001b[0m\u001b[0;34m\u001b[0m\u001b[0;34m\u001b[0m\u001b[0m\n\u001b[1;32m     12\u001b[0m     \u001b[0mprint\u001b[0m\u001b[0;34m(\u001b[0m\u001b[0;34m\"The entered age is valid.\"\u001b[0m\u001b[0;34m)\u001b[0m\u001b[0;34m\u001b[0m\u001b[0;34m\u001b[0m\u001b[0m\n",
            "\u001b[0;31mValueTooSmallError\u001b[0m: The entered age is less than 18."
          ]
        }
      ]
    },
    {
      "cell_type": "markdown",
      "source": [
        "(19) Develop a script that reverses a given string without using built-in reverse functions."
      ],
      "metadata": {
        "id": "Q9ecagcaVazW"
      }
    },
    {
      "cell_type": "code",
      "source": [
        "# Define the function to reverse a string\n",
        "def reverse_string(input_string):\n",
        "    # Initializing an empty string to store the reversed string\n",
        "    reversed_string = ''\n",
        "    # Loop over the input string in reverse order\n",
        "    for i in range(len(input_string) - 1, -1, -1):\n",
        "        # Add each character to the reversed string\n",
        "        reversed_string += input_string[i]\n",
        "    # Return the reversed string\n",
        "    return reversed_string\n",
        "# Get a string from the user\n",
        "input_string = input(\"Enter a string: \")\n",
        "# Reverse the string and print it\n",
        "print(reverse_string(input_string))"
      ],
      "metadata": {
        "id": "gycgckoAVZjR",
        "colab": {
          "base_uri": "https://localhost:8080/"
        },
        "outputId": "1ccf6213-9601-405d-e3c8-0f4e97cc0168"
      },
      "execution_count": 20,
      "outputs": [
        {
          "output_type": "stream",
          "name": "stdout",
          "text": [
            "Enter a string: sharath\n",
            "htarahs\n"
          ]
        }
      ]
    },
    {
      "cell_type": "markdown",
      "source": [
        "(20) Implement a Python script to generate a random password of a specified length."
      ],
      "metadata": {
        "id": "ZFG6RibifMLu"
      }
    },
    {
      "cell_type": "code",
      "source": [
        "# Import the required modules\n",
        "import string\n",
        "import random\n",
        "# Define the function to generate a password\n",
        "def generate_password(length):\n",
        "    # Define the characters that can be used in the password\n",
        "    characters = string.ascii_letters + string.digits + string.punctuation\n",
        "    # Generate a password of the specified length\n",
        "    password = ''.join(random.choice(characters) for i in range(length))\n",
        "    # Return the generated password\n",
        "    return password\n",
        "# Get the desired password length from the user\n",
        "length = int(input(\"Enter the length of the password: \"))\n",
        "# Generate a password of the specified length and print it\n",
        "print(generate_password(length))\n",
        "\n"
      ],
      "metadata": {
        "id": "BFVrkEi9fNiD",
        "colab": {
          "base_uri": "https://localhost:8080/"
        },
        "outputId": "236cfca2-404c-494c-e215-069b3077c2cb"
      },
      "execution_count": 18,
      "outputs": [
        {
          "output_type": "stream",
          "name": "stdout",
          "text": [
            "Enter the length of the password: 3\n",
            "VL7\n"
          ]
        }
      ]
    },
    {
      "cell_type": "markdown",
      "source": [
        "# Try these questions:"
      ],
      "metadata": {
        "id": "6SmvS7nSfbj8"
      }
    },
    {
      "cell_type": "markdown",
      "source": [
        "(21) Define a base class called 'Vehicle' with attributes make and model. Create a derived class Car that inherits from Vehicle and has an additional attribute 'num_doors'. Demonstrate an example of creating an instance of the 'Car' class and accessing its attributes."
      ],
      "metadata": {
        "id": "cboAr5pEWUf5"
      }
    },
    {
      "cell_type": "code",
      "source": [
        "class Vehicle:\n",
        "    def __init__(self, make, model):\n",
        "        self.make = make\n",
        "        self.model = model\n",
        "\n",
        "class Car(Vehicle):\n",
        "    def __init__(self, make, model, num_doors):\n",
        "        super().__init__(make, model)\n",
        "        self.num_doors = num_doors\n",
        "\n",
        "# Create an instance of the Car class\n",
        "my_car = Car('Toyota', 'Corolla', 4)\n",
        "\n",
        "# Access its attributes\n",
        "print('Make:', my_car.make)\n",
        "print('Model:', my_car.model)\n",
        "print('Number of doors:', my_car.num_doors)\n",
        "\n"
      ],
      "metadata": {
        "id": "phs9gciMWWAW",
        "colab": {
          "base_uri": "https://localhost:8080/"
        },
        "outputId": "244ad743-c1e8-41ff-9ee4-d35f6be25ba8"
      },
      "execution_count": 58,
      "outputs": [
        {
          "output_type": "stream",
          "name": "stdout",
          "text": [
            "Make: Toyota\n",
            "Model: Corolla\n",
            "Number of doors: 4\n"
          ]
        }
      ]
    },
    {
      "cell_type": "markdown",
      "source": [
        "(22) Create a class called 'Shape' with a method calculate_area(). Implement two derived classes 'Circle' and 'Rectangle' that inherit from Shape and override the calculate_area() method. Demonstrate polymorphism by creating instances of both derived classes and calling the calculate_area() method."
      ],
      "metadata": {
        "id": "J8HHefNtePwd"
      }
    },
    {
      "cell_type": "code",
      "source": [
        "# Import the math module to access mathematical functions\n",
        "import math\n",
        "# Define the base class 'Shape'\n",
        "class Shape:\n",
        "    # Define a method 'calculate_area' in the base class\n",
        "    def calculate_area(self):\n",
        "        # This method does nothing in the base class and will be overridden in the derived classes\n",
        "        pass\n",
        "# Define a derived class 'Circle' that inherits from the base class 'Shape'\n",
        "class Circle(Shape):\n",
        "    # Define the constructor for the 'Circle' class\n",
        "    def __init__(self, radius):\n",
        "        # Initialize the 'radius' attribute\n",
        "        self.radius = radius\n",
        "# Override the 'calculate_area' method for the 'Circle' class\n",
        "    def calculate_area(self):\n",
        "        # Calculate and return the area of the circle\n",
        "        return math.pi * (self.radius ** 2)\n",
        "# Define a derived class 'Rectangle' that inherits from the base class 'Shape'\n",
        "class Rectangle(Shape):\n",
        "    # Define the constructor for the 'Rectangle' class\n",
        "    def __init__(self, width, height):\n",
        "        # Initialize the 'width' and 'height' attributes\n",
        "        self.width = width\n",
        "        self.height = height\n",
        "# Override the 'calculate_area' method for the 'Rectangle' class\n",
        "    def calculate_area(self):\n",
        "        # Calculate and return the area of the rectangle\n",
        "        return self.width * self.height\n",
        "# Create an instance of the 'Circle' class with a radius of 5\n",
        "circle = Circle(5)\n",
        "# Create an instance of the 'Rectangle' class with a width of 4 and a height of 6\n",
        "rectangle = Rectangle(4, 6)\n",
        "# Create a list of the 'Circle' and 'Rectangle' instances\n",
        "shapes = [circle, rectangle]\n",
        "# Loop over each shape in the list\n",
        "for shape in shapes:\n",
        "    # Print the area of the shape by calling the 'calculate_area' method\n",
        "    # This demonstrates polymorphism, as the correct 'calculate_area' method is called depending on the type of the shape\n",
        "    print(f\"The area is: {shape.calculate_area()}\")\n"
      ],
      "metadata": {
        "id": "btnMmUZDeRhS",
        "colab": {
          "base_uri": "https://localhost:8080/"
        },
        "outputId": "6f890d68-55d6-4ee3-ec3c-dc4b9f2b20c4"
      },
      "execution_count": 59,
      "outputs": [
        {
          "output_type": "stream",
          "name": "stdout",
          "text": [
            "The area is: 78.53981633974483\n",
            "The area is: 24\n"
          ]
        }
      ]
    },
    {
      "cell_type": "markdown",
      "source": [
        "(23) Write a Python program that prompts the user to enter two numbers and perform a division operation. Handle exceptions for both zero division and invalid input (non-numeric input). Display appropriate error messages for each type of exception and ensure the program does not crash due to these errors."
      ],
      "metadata": {
        "id": "z0oqEAlTeMUS"
      }
    },
    {
      "cell_type": "code",
      "source": [
        "# Start a loop that will continue until a valid division operation is performed\n",
        "while True:\n",
        "    try:\n",
        "        # Prompt the user to enter two numbers\n",
        "        num1 = float(input(\"Enter the first number: \"))\n",
        "        num2 = float(input(\"Enter the second number: \"))\n",
        "\n",
        "        # Perform the division operation\n",
        "        result = num1 / num2\n",
        "\n",
        "        # Print the result\n",
        "        print(\"The result is:\", result)\n",
        "\n",
        "        # If a valid division operation has been performed, break the loop\n",
        "        break\n",
        "    except ZeroDivisionError:\n",
        "        # Handle the exception for zero division\n",
        "        print(\"Error: Division by zero is not allowed. Please enter a non-zero number.\")\n",
        "    except ValueError:\n",
        "        # Handle the exception for invalid input (non-numeric input)\n",
        "        print(\"Error: Invalid input. Please enter a number.\")\n"
      ],
      "metadata": {
        "id": "yjdc1zM1eMAs",
        "colab": {
          "base_uri": "https://localhost:8080/"
        },
        "outputId": "0027baa0-26c8-4950-96b7-608c6b4391ae"
      },
      "execution_count": 61,
      "outputs": [
        {
          "output_type": "stream",
          "name": "stdout",
          "text": [
            "Enter the first number: 23\n",
            "Enter the second number: 0\n",
            "Error: Division by zero is not allowed. Please enter a non-zero number.\n",
            "Enter the first number: 2\n",
            "Enter the second number: 2\n",
            "The result is: 1.0\n"
          ]
        }
      ]
    },
    {
      "cell_type": "markdown",
      "source": [
        "# Mandatory Question"
      ],
      "metadata": {
        "id": "sZOhks1dXWEe"
      }
    },
    {
      "cell_type": "markdown",
      "source": [
        "**Important:**\n",
        "Reflecting on the first three lectures and the exercises you've completed, please provide feedback on your learning experience. Share your thoughts on whether the material covered was clear, the exercises were helpful, and if you feel more confident in applying Python programming concepts. Additionally, mention any specific areas where you would like more clarification or topics you would like to explore further in future lectures. Your feedback is valuable in shaping the course for an effective learning journey."
      ],
      "metadata": {
        "id": "eqmHVEwaWhbV"
      }
    },
    {
      "cell_type": "markdown",
      "source": [
        "Write your response here."
      ],
      "metadata": {
        "id": "HlpXOT9wXQAd"
      }
    },
    {
      "cell_type": "code",
      "source": [
        "I have only basic knowledge in pytyon. By doing this assignment helped me to improve my programming skills."
      ],
      "metadata": {
        "id": "Dq2aOZU7XIke"
      },
      "execution_count": null,
      "outputs": []
    }
  ],
  "metadata": {
    "colab": {
      "provenance": [],
      "include_colab_link": true
    },
    "kernelspec": {
      "display_name": "Python 3 (ipykernel)",
      "language": "python",
      "name": "python3"
    },
    "language_info": {
      "codemirror_mode": {
        "name": "ipython",
        "version": 3
      },
      "file_extension": ".py",
      "mimetype": "text/x-python",
      "name": "python",
      "nbconvert_exporter": "python",
      "pygments_lexer": "ipython3",
      "version": "3.9.12"
    }
  },
  "nbformat": 4,
  "nbformat_minor": 0
}