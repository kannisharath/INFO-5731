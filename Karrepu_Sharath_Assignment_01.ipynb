{
  "cells": [
    {
      "cell_type": "markdown",
      "metadata": {
        "id": "view-in-github",
        "colab_type": "text"
      },
      "source": [
        "<a href=\"https://colab.research.google.com/github/kannisharath/INFO-5731/blob/main/Karrepu_Sharath_Assignment_01.ipynb\" target=\"_parent\"><img src=\"https://colab.research.google.com/assets/colab-badge.svg\" alt=\"Open In Colab\"/></a>"
      ]
    },
    {
      "cell_type": "markdown",
      "metadata": {
        "id": "Ryk8D1Q4Wsrp"
      },
      "source": [
        "# **INFO5731 Assignment One**"
      ]
    },
    {
      "cell_type": "markdown",
      "source": [
        "This assignment includes range of programming tasks and data analysis exercises, aiming to enhance your Python skills and proficiency in string manipulation, numerical computations, and data science. Follow the instructions carefully and design well-structured Python programs to address each question.\n",
        "\n",
        "Late Submission will have a penalty of 10% reduction for each day after the deadline."
      ],
      "metadata": {
        "id": "qcP6re2g5A5r"
      }
    },
    {
      "cell_type": "markdown",
      "metadata": {
        "id": "JkzR8cFAyGik"
      },
      "source": [
        "# Question 1 (10 points).\n",
        "\n",
        "The formula that describes the volume V of a hemisphere with radius r is the following:\n",
        "\n",
        "$ V=\\frac{2}{3}\\ast\\ \\pi\\ast\\ r^3 $\n",
        "\n",
        "Write a program to calculate the value of V when r is in the range of even numbers from 1-20. Output the result in the following format:\n",
        "\n",
        "\tr\tV\n",
        "\t2\t…\n",
        "\t4\t…\n",
        "\t6\t…\n",
        "\t.\n",
        "\t.\n",
        "\t.\n",
        "\t20\t…\n"
      ]
    },
    {
      "cell_type": "code",
      "execution_count": null,
      "metadata": {
        "id": "jDyTKYs-yGit",
        "colab": {
          "base_uri": "https://localhost:8080/"
        },
        "outputId": "8bde0323-f8ea-4a6d-9ca5-ed6737eba97b"
      },
      "outputs": [
        {
          "output_type": "stream",
          "name": "stdout",
          "text": [
            "r    V\n",
            "2    16.76\n",
            "4    134.04\n",
            "6    452.39\n",
            "8    1072.33\n",
            "10    2094.40\n",
            "12    3619.11\n",
            "14    5747.02\n",
            "16    8578.64\n",
            "18    12214.51\n",
            "20    16755.16\n"
          ]
        }
      ],
      "source": [
        "import math\n",
        "# Define a function to calculate the volume of a hemisphere\n",
        "def hemisphere_volume(r):\n",
        "    # The formula is (2/3) * pi * r^3\n",
        "    return (2/3) * math.pi * r**3\n",
        "# Print the header of the output\n",
        "print('r    V')\n",
        "# Loop through the range of numbers from 1 to 20\n",
        "for r in range(1, 21):\n",
        "    # Check if the number is even\n",
        "    if r % 2 == 0:\n",
        "        # If the number is even then calculate the volume\n",
        "        V = hemisphere_volume(r)\n",
        "        # Print the radius and volume\n",
        "        print(f\"{r}    {V:.2f}\")\n",
        "\n",
        "\n"
      ]
    },
    {
      "cell_type": "markdown",
      "metadata": {
        "id": "90_NR8c5XGWc"
      },
      "source": [
        "# Question 2 (20 points)\n",
        "\n",
        "(a) Write a Python program to generate a sequence of 12 random numbers falling within the range of 50 to 150.\n",
        "\n",
        "(b) Arrange the generated numbers in ascending order. Display the sorted list.\n",
        "\n",
        "(c) Extend the program to arrange the numbers in descending order as well. Present the sorted list accordingly.\n",
        "\n",
        "(d) Compute and output the average of the entire group of generated numbers.\n",
        "\n",
        "(e) Enhance the program to calculate and display the average of the first 6 numbers from both the ascending and descending sorted lists."
      ]
    },
    {
      "cell_type": "code",
      "execution_count": null,
      "metadata": {
        "id": "5QX6bJjGWXY9",
        "colab": {
          "base_uri": "https://localhost:8080/"
        },
        "outputId": "8dc37e1e-ee9a-45a0-9ecc-2ad87ea8763c"
      },
      "outputs": [
        {
          "output_type": "stream",
          "name": "stdout",
          "text": [
            "Generated numbers: [56, 72, 56, 111, 86, 121, 132, 74, 102, 71, 79, 79]\n",
            "Numbers in ascending order: [56, 56, 71, 72, 74, 79, 79, 86, 102, 111, 121, 132]\n",
            "Numbers in descending order: [132, 121, 111, 102, 86, 79, 79, 74, 72, 71, 56, 56]\n",
            "Average of all numbers: 86.58\n",
            "Average of first 6 numbers in ascending order: 68.00\n",
            "Average of first 6 numbers in descending order: 105.17\n"
          ]
        }
      ],
      "source": [
        "import random\n",
        "# (a) Generating a 12 random numbers with the range of 50 to 150\n",
        "numbers = [random.randint(50, 150) for _ in range(12)]\n",
        "print(f\"Generated numbers: {numbers}\")\n",
        "# (b) Arranging the numbers in the asscending order\n",
        "ascending_order = sorted(numbers)\n",
        "print(f\"Numbers in ascending order: {ascending_order}\")\n",
        "# (c) Arranging the numbers in desending order\n",
        "descending_order = sorted(numbers, reverse=True)\n",
        "print(f\"Numbers in descending order: {descending_order}\")\n",
        "# (d) Average of the total generated numbers\n",
        "average = sum(numbers) / len(numbers)\n",
        "print(f\"Average of all numbers: {average:.2f}\")\n",
        "# (e) Calculate and display the average of the first 6 numbers from both the ascending and descending order\n",
        "averageoffirst6ascending = sum(ascending_order[:6]) / 6\n",
        "averageoffirst6descending = sum(descending_order[:6]) / 6\n",
        "print(f\"Average of first 6 numbers in ascending order: {averageoffirst6ascending:.2f}\")\n",
        "print(f\"Average of first 6 numbers in descending order: {averageoffirst6descending:.2f}\")\n",
        "\n",
        "\n"
      ]
    },
    {
      "cell_type": "markdown",
      "metadata": {
        "id": "1F_PZdH9Sh49"
      },
      "source": [
        "# Question 3 (20 points).\n",
        "\n",
        "Create a Python program that encompasses various string manipulation task:\n",
        "\n",
        "(a) Prompt the user to input two sentences.\n",
        "\n",
        "(b) Transform each sentence into a list, where each element corresponds to a word in the sentence. For example, if the sentences are \"Hello, how are you doing today?\" and \"This is an example sentence for the program!\"\n",
        "\n",
        "The program should output:\n",
        "['Hello', ',', 'how', 'are', 'you', 'doing', 'today', '?', 'This', 'is', 'an', 'example', 'sentence', 'for', 'the', 'program', '!']\n",
        "\n",
        "(c) Compare the two sentences. Print out a list of words that occur in both sentences.\n",
        "\n",
        "(d) Remove any punctuation from the sentence and print the sanitized sentences. It should remove at least the following characters, but it can remove more: period(“.”), comma (“,”), semicolon (“;”), and colon (“:”).\n",
        "\n",
        "(e) Count the number of vowels in each of the sentences. Print out each vowel and the occurrences  in the each of the two sentences separately, such as:\n",
        "\n",
        "Sentence1: a:2, e:2, i:0, etc.\n",
        "Sentence2: a:1, e:2, i:2, etc.\n",
        "\n",
        "Design a well-structured Python program to execute these tasks efficiently."
      ]
    },
    {
      "cell_type": "code",
      "execution_count": null,
      "metadata": {
        "id": "Y0oOSlsOS0cq",
        "colab": {
          "base_uri": "https://localhost:8080/"
        },
        "outputId": "54bcf1d8-5035-4830-963d-37e7acef13c6"
      },
      "outputs": [
        {
          "output_type": "stream",
          "name": "stdout",
          "text": [
            "Enter the 1st sentence: My name is sharath.\n",
            "Enter the 2nd sentence: My father name is Ravi.\n",
            "['My', 'name', 'is', 'sharath.', 'My', 'father', 'name', 'is', 'Ravi.']\n",
            "Common words: ['My', 'is', 'name']\n",
            "Clarified_sentence 1: My name is sharath\n",
            "Clarified_sentence 2: My father name is Ravi\n",
            "Sentence 1 vowels: {'a': 3, 'e': 1, 'i': 1, 'o': 0, 'u': 0}\n",
            "Sentence 2 vowels: {'a': 3, 'e': 2, 'i': 2, 'o': 0, 'u': 0}\n"
          ]
        }
      ],
      "source": [
        "# Import the string module to access string related functions\n",
        "import string\n",
        "# (a) Prompt the user to input two sentences\n",
        "sentence1 = input(\"Enter the 1st sentence: \")\n",
        "sentence2 = input(\"Enter the 2nd sentence: \")\n",
        "# (b) Transform each sentence into a list\n",
        "# The split() function splits a string into a list where each word is a list item\n",
        "words1 = sentence1.split()\n",
        "words2 = sentence2.split()\n",
        "# Print the combined list of words\n",
        "print(words1 + words2)\n",
        "# (c) Compare the two sentences\n",
        "# Convert the lists to sets to remove duplicates and perform intersection\n",
        "same_words = list(set(words1) & set(words2))\n",
        "# Print the common words\n",
        "print(\"Common words:\", same_words)\n",
        "# (d) Remove any punctuation from the sentence\n",
        "# Define a translator to remove punctuation\n",
        "translator = str.maketrans('', '', string.punctuation)\n",
        "# Use the translator to remove punctuation from the sentences\n",
        "Clarified_sentence1 = sentence1.translate(translator)\n",
        "Clarified_sentence2 = sentence2.translate(translator)\n",
        "# Print the sanitized sentences\n",
        "print(\"Clarified_sentence 1:\", Clarified_sentence1)\n",
        "print(\"Clarified_sentence 2:\", Clarified_sentence2)\n",
        "\n",
        "# (e) Count the number of vowels in each of the sentences\n",
        "# Define a string of vowels\n",
        "vowels = 'aeiou'\n",
        "# Use a dictionary comprehension to count the occurrences of each vowel in the sentences\n",
        "sentence1_vowels = {v: Clarified_sentence1.lower().count(v) for v in vowels}\n",
        "sentence2_vowels = {v: Clarified_sentence2.lower().count(v) for v in vowels}\n",
        "# Print the counts\n",
        "print(\"Sentence 1 vowels:\", sentence1_vowels)\n",
        "print(\"Sentence 2 vowels:\", sentence2_vowels)\n",
        "\n",
        "\n"
      ]
    },
    {
      "cell_type": "markdown",
      "source": [
        "# Question 4 (20 Points)"
      ],
      "metadata": {
        "id": "OP4-5qxAtInv"
      }
    },
    {
      "cell_type": "markdown",
      "source": [
        "Design and implement a simple command-line calculator program. The program should handle both integers and floating-point numbers.\n",
        "\n",
        "(a) Write program that takes a mathematical expression as input and evaluates it. The program should support addition, subtraction, multiplication, and division.\n",
        "\n",
        "(b) Extend the calculator to handle parentheses in mathematical expressions. Implement the necessary logic to evaluate expressions with nested parentheses.\n",
        "\n",
        "(c) Enhance your calculator to include additional mathematical operations such as exponentiation, square root, and modulus.\n",
        "\n",
        "(d) Implement error handling in the calculator program. Handle cases such as division by zero and invalid input expressions. Provide meaningful error messages.\n",
        "\n",
        "(e) Implement a command to exit the calculator."
      ],
      "metadata": {
        "id": "uzN4_hDptK9U"
      }
    },
    {
      "cell_type": "code",
      "source": [
        "import math\n",
        "\n",
        "def calculator():\n",
        "    while True:\n",
        "        try:\n",
        "            # Prompt the user for input\n",
        "            expression = input(\"\\nEnter a mathematical expression (or 'exit' to quit): \")\n",
        "\n",
        "            # Check if the user wants to exit\n",
        "            if expression.lower() == 'exit':\n",
        "                break\n",
        "\n",
        "            # Replace the ^ operator with ** for exponentiation\n",
        "            expression = expression.replace('^', '**')\n",
        "\n",
        "            # Replace the square root function with math.sqrt\n",
        "            expression = expression.replace('sqrt', 'math.sqrt')\n",
        "\n",
        "            # Evaluate the expression\n",
        "            result = eval(expression)\n",
        "\n",
        "            # Print the result\n",
        "            print(\"Result: \", result)\n",
        "\n",
        "        except ZeroDivisionError:\n",
        "            print(\"Error: Division by zero is not allowed.\")\n",
        "        except SyntaxError:\n",
        "            print(\"Error: Invalid mathematical expression.\")\n",
        "        except Exception as e:\n",
        "            print(\"Error: \", str(e))\n",
        "\n",
        "calculator()\n",
        "\n"
      ],
      "metadata": {
        "id": "8nQnVxjJuYtu",
        "colab": {
          "base_uri": "https://localhost:8080/"
        },
        "outputId": "2e737921-48fb-4ee3-841b-dcb66ba2988d"
      },
      "execution_count": null,
      "outputs": [
        {
          "name": "stdout",
          "output_type": "stream",
          "text": [
            "\n",
            "Enter a mathematical expression (or 'exit' to quit): 5+5\n",
            "Result:  10\n",
            "\n",
            "Enter a mathematical expression (or 'exit' to quit): 5-5\n",
            "Result:  0\n",
            "\n",
            "Enter a mathematical expression (or 'exit' to quit): 5*5\n",
            "Result:  25\n",
            "\n",
            "Enter a mathematical expression (or 'exit' to quit): 5/5\n",
            "Result:  1.0\n",
            "\n",
            "Enter a mathematical expression (or 'exit' to quit): 5/0\n",
            "Error: Division by zero is not allowed.\n",
            "\n",
            "Enter a mathematical expression (or 'exit' to quit): exit\n"
          ]
        }
      ]
    },
    {
      "cell_type": "markdown",
      "metadata": {
        "id": "z3tBE7E-Xn5X"
      },
      "source": [
        "# Question 5 (30 points).\n",
        "\n",
        "In the field of Data Science, data is often formatted as a comma-delimited (CSV) file, where each line in a file corresponds to a field's value. Refer to Chapter 9 (p. 106) for more information on comma-delimited files.\n",
        "\n",
        "To answer this question, you will need to download the file [Assignment1_denton_housing.csv](https://raw.githubusercontent.com/unt-iialab/info5731-spring2022/main/assignments/Assignment1_denton_housing.csv) included with this assignment. The file contains statistics about housing in the city of Denton from 2008 to 2014. Write a program to implement the following questions.\n",
        "\n",
        "(a) (5 pts) Calculate the difference in the number of Occupied Housing Units from year to year and print it. The difference must be calculated for the consecutive years such as 2008-2009, 2009-2010 etc. Finally, print the values in the ascending order.\n",
        "\n",
        "(b) (5 pts) For all the years, calculate the percentage of housing units which are vacant an occupied. Print the results in the following format:\n",
        "\n",
        "Year Vacant Housing Units Occupied Housing Units\n",
        "\n",
        "    2008  30%   70%                          \n",
        "\t2009 ----- -----\n",
        "\t2010 ----- -----\n",
        "    2011 ----- -----\n",
        "\t2012 ----- -----\n",
        "    2013 ----- -----\n",
        "\t2014 ----- -----\n",
        "  \n",
        "  \n",
        "\n",
        "(c) (10 pts) Calculate and print the valued and years in which the highest number of housing units were vacant and occupied. Print the results in the following format:  \n",
        "\n",
        "                              Year\tValue\n",
        "\tVacant Housing Units\t  -----   -----\n",
        "\tOccupied Housing Units\t-----   -----\n",
        "\n",
        "(d) (10 pts) Calculate the harmonic mean of the total housing units and print it out. You can find the information about harmonic mean here: https://ncalculators.com/statistics/harmonic-mean-calculator.htm"
      ]
    },
    {
      "cell_type": "code",
      "execution_count": null,
      "metadata": {
        "id": "lqGYuHBhcsRH",
        "colab": {
          "base_uri": "https://localhost:8080/"
        },
        "outputId": "200a17e8-560b-408e-a152-074e739ac290"
      },
      "outputs": [
        {
          "output_type": "stream",
          "name": "stdout",
          "text": [
            " year  difference\n",
            " 2009      -795.0\n",
            " 2011      -303.0\n",
            " 2012      1404.0\n",
            " 2013      1565.0\n",
            " 2014      2622.0\n",
            " 2010      5091.0\n",
            "\n",
            "Year\tVacant Housing Units\tOccupied Housing Units\n",
            "2014\t5.73%\t\t\t94.27%\n",
            "2013\t8.80%\t\t\t91.20%\n",
            "2012\t6.68%\t\t\t93.32%\n",
            "2011\t9.38%\t\t\t90.62%\n",
            "2010\t8.14%\t\t\t91.86%\n",
            "2009\t9.07%\t\t\t90.93%\n",
            "2008\t10.88%\t\t\t89.12%\n",
            "\n",
            "\t\t\tYear\tValue\n",
            "Vacant Housing Units\t2008\t4483\n",
            "Occupied Housing Units\t2014\t46295\n",
            "\n",
            "Harmonic mean of the total housing units: 44398.29\n"
          ]
        }
      ],
      "source": [
        "# Import necessary libraries\n",
        "import pandas as pd\n",
        "from scipy import stats\n",
        "# Load the data from CSV file\n",
        "df = pd.read_csv('Assignment1_denton_housing.csv')\n",
        "# (a) Calculate the difference in the number of Occupied Housing Units from year to year\n",
        "df_occupied = df[df['title_field'] == 'Occupied Housing Units'].sort_values(by='year')\n",
        "df_occupied['difference'] = df_occupied['value'].diff().dropna()\n",
        "df_occupied = df_occupied[['year', 'difference']].sort_values(by='difference').dropna()\n",
        "# Convert DataFrame to string and then print it\n",
        "print(df_occupied.to_string(index=False))\n",
        "# (b) Calculate percentage of vacant and occupied housing units for each year\n",
        "df_total = df[df['title_field'] == 'Total Housing Units'].set_index('year')\n",
        "df_vacant = df[df['title_field'] == 'Vacant Housing Units'].set_index('year')\n",
        "df_occupied = df[df['title_field'] == 'Occupied Housing Units'].set_index('year')\n",
        "vacant_percentage = (df_vacant['value'] / df_total['value']) * 100\n",
        "occupied_percentage = (df_occupied['value'] / df_total['value']) * 100\n",
        "print(\"\\nYear\\tVacant Housing Units\\tOccupied Housing Units\")\n",
        "for year in df_total.index:\n",
        "    print(f\"{year}\\t{vacant_percentage[year]:.2f}%\\t\\t\\t{occupied_percentage[year]:.2f}%\")\n",
        "# (c) Find and print the years with highest number of vacant and occupied housing units\n",
        "max_vacant_year = df_vacant['value'].idxmax()\n",
        "max_occupied_year = df_occupied['value'].idxmax()\n",
        "print(\"\\n\\t\\t\\tYear\\tValue\")\n",
        "print(f\"Vacant Housing Units\\t{max_vacant_year}\\t{df_vacant.loc[max_vacant_year, 'value']}\")\n",
        "print(f\"Occupied Housing Units\\t{max_occupied_year}\\t{df_occupied.loc[max_occupied_year, 'value']}\")\n",
        "# (d) Calculate and print harmonic mean of total housing units\n",
        "harmonic_mean = stats.hmean(df_total['value'])\n",
        "print(f\"\\nHarmonic mean of the total housing units: {harmonic_mean:.2f}\")\n",
        "\n"
      ]
    },
    {
      "cell_type": "markdown",
      "source": [
        "# Mandatory Question\n",
        "\n",
        "Provide your thoughts on the assignment. What did you find challenging, and what aspects did you enjoy? Your opinion on the provided time to complete the assignment. Share any suggestions for improvement. Your feedback will be valuable for enhancing the learning experience."
      ],
      "metadata": {
        "id": "q8BFCvWp32cf"
      }
    },
    {
      "cell_type": "code",
      "source": [
        " # It is good for improving the skills in python.the time given to this assignment was quite enough."
      ],
      "metadata": {
        "id": "_e557s2w4BpK"
      },
      "execution_count": null,
      "outputs": []
    }
  ],
  "metadata": {
    "colab": {
      "provenance": [],
      "include_colab_link": true
    },
    "kernelspec": {
      "display_name": "Python 3 (ipykernel)",
      "language": "python",
      "name": "python3"
    },
    "language_info": {
      "codemirror_mode": {
        "name": "ipython",
        "version": 3
      },
      "file_extension": ".py",
      "mimetype": "text/x-python",
      "name": "python",
      "nbconvert_exporter": "python",
      "pygments_lexer": "ipython3",
      "version": "3.9.12"
    }
  },
  "nbformat": 4,
  "nbformat_minor": 0
}